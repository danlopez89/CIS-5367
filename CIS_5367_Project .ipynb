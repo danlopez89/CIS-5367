{
  "nbformat": 4,
  "nbformat_minor": 0,
  "metadata": {
    "colab": {
      "name": "CIS_5367_Project.ipynb",
      "provenance": [],
      "collapsed_sections": []
    },
    "kernelspec": {
      "name": "python3",
      "display_name": "Python 3"
    },
    "language_info": {
      "name": "python"
    }
  },
  "cells": [
    {
      "cell_type": "code",
      "execution_count": 1,
      "metadata": {
        "id": "WrIH82Buajud"
      },
      "outputs": [],
      "source": [
        "# Spark init\n",
        "!wget -q https://dlcdn.apache.org/spark/spark-3.1.2/spark-3.1.2-bin-hadoop2.7.tgz \n",
        "!tar xf spark-3.1.2-bin-hadoop2.7.tgz\n",
        "import os\n",
        "os.environ[\"JAVA_HOME\"] = \"/usr/lib/jvm/default-java\"\n",
        "os.environ[\"SPARK_HOME\"] = \"/content/spark-3.1.2-bin-hadoop2.7\"\n",
        "!pip install -q findspark\n",
        "import findspark\n",
        "findspark.init()"
      ]
    },
    {
      "cell_type": "code",
      "source": [
        "from pyspark.sql.types import *\n",
        "from pyspark.sql import SparkSession"
      ],
      "metadata": {
        "id": "QhFXjoqqa2wD"
      },
      "execution_count": 2,
      "outputs": []
    },
    {
      "cell_type": "code",
      "source": [
        "# Mount Google Drive\n",
        "from google.colab import drive\n",
        "drive.mount('/content/drive')"
      ],
      "metadata": {
        "colab": {
          "base_uri": "https://localhost:8080/"
        },
        "id": "mLljQx8ka4NZ",
        "outputId": "d33c64c7-9672-48f0-f372-20597bea2bdb"
      },
      "execution_count": 3,
      "outputs": [
        {
          "output_type": "stream",
          "name": "stdout",
          "text": [
            "Mounted at /content/drive\n"
          ]
        }
      ]
    },
    {
      "cell_type": "code",
      "source": [
        "# Create spark session \n",
        "spark = SparkSession.builder\\\n",
        "        .master(\"local\")\\\n",
        "        .appName(\"Colab\")\\\n",
        "        .config('spark.ui.port', '4050')\\\n",
        "        .getOrCreate()"
      ],
      "metadata": {
        "id": "GLFBl_TYa5YF"
      },
      "execution_count": 4,
      "outputs": []
    },
    {
      "cell_type": "code",
      "source": [
        "# Check raw data (reviews.csv)\n",
        "!head -5 /content/drive/MyDrive/data/beers-breweries-reviews/reviews.csv"
      ],
      "metadata": {
        "colab": {
          "base_uri": "https://localhost:8080/"
        },
        "id": "oY1bKxrdbCJs",
        "outputId": "c2acabbb-5cda-41ca-9bee-64b49da4f097"
      },
      "execution_count": 5,
      "outputs": [
        {
          "output_type": "stream",
          "name": "stdout",
          "text": [
            "beer_id,username,date,text,look,smell,taste,feel,overall,score\n",
            "271781,bluejacket74,2017-03-17,\"   750 ml bottle, 2016 vintage, bottle #304 of 360. Served in a DFH snifter, the beer pours dark brown/black with about an inch tan head that stuck around a little while. There's also a good amount of lacing. I like the aroma, the brew smells like dark fruit (raisin, plum), chocolate, roasted malt, and a bit of licorice. For the most part I think the taste is just like the aroma, but with some coffee flavor noticeable too. Mouthfeel/body is medium/full, it's creamy and coating with a moderate amount of carbonation. I think it's a good overall brew, worth picking up if you want a nice straight forward imperial stout. Here's hoping Four String brings this back in the future! $9.99 a bottle.  \",4,4,4,4.25,4,4.03\n",
            "125646,_dirty_,2017-12-21,  ,4.5,4.5,4.5,4.5,4.5,4.5\n",
            "125646,CJDUBYA,2017-12-21,  ,4.75,4.75,4.75,4.75,4.75,4.75\n",
            "125646,GratefulBeerGuy,2017-12-20,\"   0% 16 oz can. Funny story: As I finally walked in the doors after a 45 min wait in line and freezing temps the sweet sound of the Grateful Dead's Sugar Magnolia greeted me from the TreeHouse sound system. The bottom of the can reads: \"\"Going where the wind goes, bloomin' like a red rose\"\" A white haze to the yellow and golden liquid. Thick and healthy, totally unfiltered. Brawny white foam cap, thick, all-white clumps. Huge lacing left over. The aroma has a very zesty citrus hop effect, mellon and mango, grainy earthiness, tropical fruit blend with a bitter to sweet effect, then a peppery kick at the end. Very aromatic. The flavor is just bursting with complex hops, zesty earthy tones, sweet orange, peppery malt, clean fresh feel and overall vibe. A crispy bite wakes you up, full and lush mouthfeel follows from a totally unfiltered expereince. The feel and flavor finishes with a fun, earthy, zesty dry bite. Tropical juicy, zesty citrus, zippy golden wheat malt, melons, rustic earthiness sums up the taste pretty well. Levels of complexity are deep. It's an interesting ride for sure. Overall, this one stands somewhere near the top of the New England IPA's.  \",4.75,4.75,4.5,4.5,4.5,4.58\n"
          ]
        }
      ]
    },
    {
      "cell_type": "code",
      "source": [
        "# Create the schema, read the reviews file, and display top 20 rows\n",
        "custom_reviews_schema = StructType([\n",
        "        StructField(\"beer_id\", IntegerType(), True),\n",
        "        StructField(\"username\", StringType(), True),\n",
        "        StructField(\"date\", DateType(), True),\n",
        "        StructField(\"review_text\", StringType(), True),\n",
        "        StructField(\"look\", FloatType(), True),\n",
        "        StructField(\"smell\", FloatType(), True),\n",
        "        StructField(\"taste\", FloatType(), True),\n",
        "        StructField(\"feel\", FloatType(), True),\n",
        "        StructField(\"overall\", FloatType(), True),\n",
        "        StructField(\"score\", FloatType(), True)\n",
        "  ])\n",
        "\n",
        "reviews_df = spark.read.csv('/content/drive/MyDrive/data/beers-breweries-reviews/reviews.csv',\n",
        "                    sep = ',', schema = custom_reviews_schema, header = True)\n",
        "\n",
        "reviews_df.show()"
      ],
      "metadata": {
        "colab": {
          "base_uri": "https://localhost:8080/"
        },
        "id": "0888xEJbxmxw",
        "outputId": "fb14054f-dd27-40ab-f7da-e8824eafe041"
      },
      "execution_count": 21,
      "outputs": [
        {
          "output_type": "stream",
          "name": "stdout",
          "text": [
            "+-------+---------------+----------+--------------------+----+-----+-----+----+-------+-----+\n",
            "|beer_id|       username|      date|         review_text|look|smell|taste|feel|overall|score|\n",
            "+-------+---------------+----------+--------------------+----+-----+-----+----+-------+-----+\n",
            "| 271781|   bluejacket74|2017-03-17|   750 ml bottle,...| 4.0|  4.0|  4.0|4.25|    4.0| 4.03|\n",
            "| 125646|        _dirty_|2017-12-21|                    | 4.5|  4.5|  4.5| 4.5|    4.5|  4.5|\n",
            "| 125646|        CJDUBYA|2017-12-21|                    |4.75| 4.75| 4.75|4.75|   4.75| 4.75|\n",
            "| 125646|GratefulBeerGuy|2017-12-20|\"   0% 16 oz can....|null| null| null|null|   null| null|\n",
            "| 125646|       LukeGude|2017-12-20|   Classic TH NEI...|4.25|  4.5| 4.25|4.25|   4.25| 4.31|\n",
            "| 125646|        jneff33|2017-12-20|                    | 4.5| 4.75|  5.0| 5.0|    5.0| 4.91|\n",
            "| 125646|      yummybeer|2017-12-19|                    |4.75|  4.5| 4.75|4.75|   4.75| 4.69|\n",
            "| 125646|           MFMB|2017-12-16|   Pours a creamy...|4.75|  4.5|  4.5| 4.5|    4.5| 4.52|\n",
            "| 125646|           wwoj|2017-12-16|                    | 5.0| 4.75|  4.5| 4.5|    4.5| 4.59|\n",
            "| 125646|        Rubenjr|2017-12-14|                    |4.75|  4.5|  4.5|4.75|    4.5| 4.54|\n",
            "| 125646|         jshusc|2017-12-13|                    | 4.5| 4.75|  4.5| 4.5|    4.5| 4.56|\n",
            "| 125646|       wfreitag|2017-12-11|                    |4.75| 4.75| 4.75|4.75|   4.75| 4.75|\n",
            "| 125646|      RollTide7|2017-12-10|                    | 4.5|  4.5| 4.75| 4.5|   4.75| 4.65|\n",
            "| 125646|    jngrizzaffi|2017-12-10|   Pours a cloudy...| 4.5|  4.5|  4.5|4.75|    4.5| 4.53|\n",
            "| 125646|    MBruckerATC|2017-12-09|                    | 5.0|  5.0|  5.0| 5.0|    5.0|  5.0|\n",
            "| 125646|       PDOR1960|2017-12-08|   Another great ...| 4.5|  4.5|  4.5| 4.5|    4.5|  4.5|\n",
            "| 125646|        hankf44|2017-12-07|                    |4.75| 4.75| 4.75| 5.0|   4.75| 4.78|\n",
            "| 125646|   JNickerson12|2017-12-07|                    | 5.0|  5.0|  5.0| 5.0|    5.0|  5.0|\n",
            "| 125646|    Chackman151|2017-12-05|                    | 5.0|  5.0|  5.0| 5.0|    5.0|  5.0|\n",
            "| 125646|        Lucular|2017-12-04|   Pours with a c...|4.25| 4.25| 4.25|4.25|   4.25| 4.25|\n",
            "+-------+---------------+----------+--------------------+----+-----+-----+----+-------+-----+\n",
            "only showing top 20 rows\n",
            "\n"
          ]
        }
      ]
    },
    {
      "cell_type": "code",
      "source": [
        "reviews_df.printSchema()"
      ],
      "metadata": {
        "colab": {
          "base_uri": "https://localhost:8080/"
        },
        "id": "t7frnOB32r2S",
        "outputId": "bf95fd8d-08fd-4caf-a585-6cecd4e42781"
      },
      "execution_count": 22,
      "outputs": [
        {
          "output_type": "stream",
          "name": "stdout",
          "text": [
            "root\n",
            " |-- beer_id: integer (nullable = true)\n",
            " |-- username: string (nullable = true)\n",
            " |-- date: date (nullable = true)\n",
            " |-- review_text: string (nullable = true)\n",
            " |-- look: float (nullable = true)\n",
            " |-- smell: float (nullable = true)\n",
            " |-- taste: float (nullable = true)\n",
            " |-- feel: float (nullable = true)\n",
            " |-- overall: float (nullable = true)\n",
            " |-- score: float (nullable = true)\n",
            "\n"
          ]
        }
      ]
    },
    {
      "cell_type": "code",
      "source": [
        "# Drop unnecessary columns, remove rows with missing values, and create clean df\n",
        "clean_reviews_df = reviews_df.drop('date', 'review_text')\n",
        "clean_reviews_df = clean_reviews_df.dropna()\n",
        "\n",
        "clean_reviews_df.show()"
      ],
      "metadata": {
        "colab": {
          "base_uri": "https://localhost:8080/"
        },
        "id": "UXpKeRyivQSy",
        "outputId": "7a9532b1-e61c-4ac7-da0b-8267046ab2e2"
      },
      "execution_count": 23,
      "outputs": [
        {
          "output_type": "stream",
          "name": "stdout",
          "text": [
            "+-------+------------+----+-----+-----+----+-------+-----+\n",
            "|beer_id|    username|look|smell|taste|feel|overall|score|\n",
            "+-------+------------+----+-----+-----+----+-------+-----+\n",
            "| 271781|bluejacket74| 4.0|  4.0|  4.0|4.25|    4.0| 4.03|\n",
            "| 125646|     _dirty_| 4.5|  4.5|  4.5| 4.5|    4.5|  4.5|\n",
            "| 125646|     CJDUBYA|4.75| 4.75| 4.75|4.75|   4.75| 4.75|\n",
            "| 125646|    LukeGude|4.25|  4.5| 4.25|4.25|   4.25| 4.31|\n",
            "| 125646|     jneff33| 4.5| 4.75|  5.0| 5.0|    5.0| 4.91|\n",
            "| 125646|   yummybeer|4.75|  4.5| 4.75|4.75|   4.75| 4.69|\n",
            "| 125646|        MFMB|4.75|  4.5|  4.5| 4.5|    4.5| 4.52|\n",
            "| 125646|        wwoj| 5.0| 4.75|  4.5| 4.5|    4.5| 4.59|\n",
            "| 125646|     Rubenjr|4.75|  4.5|  4.5|4.75|    4.5| 4.54|\n",
            "| 125646|      jshusc| 4.5| 4.75|  4.5| 4.5|    4.5| 4.56|\n",
            "| 125646|    wfreitag|4.75| 4.75| 4.75|4.75|   4.75| 4.75|\n",
            "| 125646|   RollTide7| 4.5|  4.5| 4.75| 4.5|   4.75| 4.65|\n",
            "| 125646| jngrizzaffi| 4.5|  4.5|  4.5|4.75|    4.5| 4.53|\n",
            "| 125646| MBruckerATC| 5.0|  5.0|  5.0| 5.0|    5.0|  5.0|\n",
            "| 125646|    PDOR1960| 4.5|  4.5|  4.5| 4.5|    4.5|  4.5|\n",
            "| 125646|     hankf44|4.75| 4.75| 4.75| 5.0|   4.75| 4.78|\n",
            "| 125646|JNickerson12| 5.0|  5.0|  5.0| 5.0|    5.0|  5.0|\n",
            "| 125646| Chackman151| 5.0|  5.0|  5.0| 5.0|    5.0|  5.0|\n",
            "| 125646|     Lucular|4.25| 4.25| 4.25|4.25|   4.25| 4.25|\n",
            "| 125646| ColForbinBC|4.25| 4.25|  4.5| 4.5|   4.25| 4.38|\n",
            "+-------+------------+----+-----+-----+----+-------+-----+\n",
            "only showing top 20 rows\n",
            "\n"
          ]
        }
      ]
    },
    {
      "cell_type": "code",
      "source": [
        "# Number of unique users\n",
        "uniqueUsers = clean_reviews_df.select('username').distinct().count()\n",
        "print(\"There are %d unique users that left a review.\" % uniqueUsers)\n",
        "\n",
        "# Number of unique beers \n",
        "uniqueBeers = clean_reviews_df.select('beer_id').distinct().count()\n",
        "print(\"There are %d beers that were reviewed.\" % uniqueBeers)"
      ],
      "metadata": {
        "colab": {
          "base_uri": "https://localhost:8080/"
        },
        "id": "ChKI-zcE41KW",
        "outputId": "38bd13d6-26e4-4ea0-b41c-834a3043216a"
      },
      "execution_count": 15,
      "outputs": [
        {
          "output_type": "stream",
          "name": "stdout",
          "text": [
            "There are 108406 unique users that left a review.\n",
            "There are 155199 beers that were reviewed.\n"
          ]
        }
      ]
    },
    {
      "cell_type": "code",
      "source": [
        "# Find average ratings for all categories \n",
        "# This takes a long time to run (about 10 minutes)\n",
        "import pyspark.sql.functions as func\n",
        "\n",
        "averageLookRating = clean_reviews_df.agg(func.avg('look')).collect()[0][0]\n",
        "print(\"The average rating for the Look category is: %.2f\" % averageLookRating)\n",
        "\n",
        "averageSmellRating = clean_reviews_df.agg(func.avg('smell')).collect()[0][0]\n",
        "print(\"The average rating for the Smell category is: %.2f\" % averageSmellRating) \n",
        "\n",
        "averageTasteRating = clean_reviews_df.agg(func.avg('taste')).collect()[0][0]\n",
        "print(\"The average rating for the Taste category is: %.2f\" % averageTasteRating) \n",
        "\n",
        "averageFeelRating = clean_reviews_df.agg(func.avg('feel')).collect()[0][0]\n",
        "print(\"The average rating for the Feel category is: %.2f\" % averageFeelRating) \n",
        "\n",
        "averageOverallRating = clean_reviews_df.agg(func.avg('overall')).collect()[0][0]\n",
        "print(\"The average rating for the Overall category is: %.2f\" % averageOverallRating)\n",
        "\n",
        "averageScoreRating = clean_reviews_df.agg(func.avg('score')).collect()[0][0]\n",
        "print(\"The average rating for the Score category is: %.2f\" % averageScoreRating)"
      ],
      "metadata": {
        "colab": {
          "base_uri": "https://localhost:8080/"
        },
        "id": "pXhljaMR0BOc",
        "outputId": "6e4714b0-bec7-440c-81e1-80f56fa69057"
      },
      "execution_count": 16,
      "outputs": [
        {
          "output_type": "stream",
          "name": "stdout",
          "text": [
            "The average rating for the Look category is: 3.96\n",
            "The average rating for the Smell category is: 3.89\n",
            "The average rating for the Taste category is: 3.93\n",
            "The average rating for the Feel category is: 3.89\n",
            "The average rating for the Overall category is: 3.92\n",
            "The average rating for the Score category is: 3.92\n"
          ]
        }
      ]
    },
    {
      "cell_type": "code",
      "source": [
        "# Check raw data (beers.csv)\n",
        "!head -5 /content/drive/MyDrive/data/beers-breweries-reviews/beers.csv"
      ],
      "metadata": {
        "colab": {
          "base_uri": "https://localhost:8080/"
        },
        "id": "uQ9bntE10OCi",
        "outputId": "7ee885ff-94bd-4bce-910a-939f0f8420b8"
      },
      "execution_count": 17,
      "outputs": [
        {
          "output_type": "stream",
          "name": "stdout",
          "text": [
            "id,name,brewery_id,state,country,style,availability,abv,notes,retired\n",
            "202522,Olde Cogitator,2199,CA,US,English Oatmeal Stout, Rotating,7.3,No notes at this time.,f\n",
            "82352,Konrads Stout Russian Imperial Stout,18604,,NO,Russian Imperial Stout, Rotating,10.4,No notes at this time.,f\n",
            "214879,Scottish Right,44306,IN,US,Scottish Ale, Year-round,4,No notes at this time.,t\n",
            "320009,MegaMeow Imperial Stout,4378,WA,US,American Imperial Stout, Winter,8.7,Every time this year,f\n"
          ]
        }
      ]
    },
    {
      "cell_type": "code",
      "source": [
        "# Create the schema, read the beers file, and display top 20 rows\n",
        "custom_beers_schema = StructType([\n",
        "        StructField(\"beer_id\", IntegerType(), True),\n",
        "        StructField(\"name\", StringType(), True),\n",
        "        StructField(\"brewery_id\", IntegerType(), True),\n",
        "        StructField(\"state\", StringType(), True),\n",
        "        StructField(\"country\", StringType(), True),\n",
        "        StructField(\"style\", StringType(), True),\n",
        "        StructField(\"availability\", StringType(), True),\n",
        "        StructField(\"abv\", FloatType(), True),\n",
        "        StructField(\"notes\", StringType(), True),\n",
        "        StructField(\"retired\", StringType(), True)\n",
        "  ])\n",
        "beers_df = spark.read.csv('/content/drive/MyDrive/data/beers-breweries-reviews/beers.csv',\n",
        "                    sep = ',', schema = custom_beers_schema, header = True)\n",
        "\n",
        "beers_df.show()"
      ],
      "metadata": {
        "colab": {
          "base_uri": "https://localhost:8080/"
        },
        "id": "MgpPCFJo0Vpj",
        "outputId": "e2bab819-6a80-45d4-a734-de94cb07b811"
      },
      "execution_count": 25,
      "outputs": [
        {
          "output_type": "stream",
          "name": "stdout",
          "text": [
            "+-------+--------------------+----------+-----+-------+--------------------+--------------------+----+--------------------+-------+\n",
            "|beer_id|                name|brewery_id|state|country|               style|        availability| abv|               notes|retired|\n",
            "+-------+--------------------+----------+-----+-------+--------------------+--------------------+----+--------------------+-------+\n",
            "| 202522|      Olde Cogitator|      2199|   CA|     US|English Oatmeal S...|            Rotating| 7.3|No notes at this ...|      f|\n",
            "|  82352|Konrads Stout Rus...|     18604| null|     NO|Russian Imperial ...|            Rotating|10.4|No notes at this ...|      f|\n",
            "| 214879|      Scottish Right|     44306|   IN|     US|        Scottish Ale|          Year-round| 4.0|No notes at this ...|      t|\n",
            "| 320009|MegaMeow Imperial...|      4378|   WA|     US|American Imperial...|              Winter| 8.7|Every time this year|      f|\n",
            "| 246438|     Peaches-N-Cream|     44617|   PA|     US|  American Cream Ale|            Rotating| 5.1|No notes at this ...|      f|\n",
            "|   8036|World Burp Beer 2002|      3469| null|     JP| Japanese Rice Lager| Limited (brewed ...| 5.5|No notes at this ...|      t|\n",
            "| 108605|         Icon Sender|     22598|   CA|     US|      American Lager|          Year-round| 5.6|No notes at this ...|      f|\n",
            "| 345382|          Divina IPA|     45567| null|     IT|        American IPA|            Rotating| 6.5|No notes at this ...|      f|\n",
            "| 255286| Light Of The Ozarks|     11203|   AR|     US|      American Lager|            Rotating| 4.3|No notes at this ...|      f|\n",
            "|  29556|      Warrior's Bock|      8203|   SK|     CA|         German Bock|            Rotating| 7.5|No notes at this ...|      t|\n",
            "| 106840|Firehouse Coffee ...|     25251| null|     AU|       English Stout| Limited (brewed ...| 5.0|No notes at this ...|      t|\n",
            "| 253234|Coffee Infused Bi...|     46862|   WA|     US|      English Bitter|            Rotating| 3.5|No notes at this ...|      f|\n",
            "|  15271|   Belgian Style Wit|      1345|   WA|     US|     Belgian Witbier|          Year-round| 4.5|No notes at this ...|      t|\n",
            "|  69212|       Réserve No. 3|     18796|   QC|     CA| American Strong Ale| Limited (brewed ...|11.8|No notes at this ...|      t|\n",
            "| 181442|Southern Saints I...|     33659|   NC|     US|American Pale Whe...|              Spring| 6.9|No notes at this ...|      f|\n",
            "| 351259|     Champagne Toast|     34416|   WA|     US|     Berliner Weisse|            Rotating| 4.0|No notes at this ...|      f|\n",
            "| 303023|The Sky Is High (...|     46616|   NJ|     US|American Pale Ale...| Limited (brewed ...| 5.2|This hazy pale al...|      t|\n",
            "| 265827|             Addison|     30870|   PA|     US|American Pale Ale...|            Rotating| 5.5|No notes at this ...|      f|\n",
            "| 219798|   Ocean Barley Wine|     16420| null|     SE|  British Barleywine|          Year-round| 9.8|No notes at this ...|      f|\n",
            "| 110318|        Schwartz Hop|     22598|   CA|     US|  American Black Ale| Limited (brewed ...| 6.0|No notes at this ...|      t|\n",
            "+-------+--------------------+----------+-----+-------+--------------------+--------------------+----+--------------------+-------+\n",
            "only showing top 20 rows\n",
            "\n"
          ]
        }
      ]
    },
    {
      "cell_type": "code",
      "source": [
        "beers_df.printSchema()"
      ],
      "metadata": {
        "colab": {
          "base_uri": "https://localhost:8080/"
        },
        "id": "60XvfjAaTFRI",
        "outputId": "294da3a5-b604-4dd9-f211-20287717f243"
      },
      "execution_count": 26,
      "outputs": [
        {
          "output_type": "stream",
          "name": "stdout",
          "text": [
            "root\n",
            " |-- beer_id: integer (nullable = true)\n",
            " |-- name: string (nullable = true)\n",
            " |-- brewery_id: integer (nullable = true)\n",
            " |-- state: string (nullable = true)\n",
            " |-- country: string (nullable = true)\n",
            " |-- style: string (nullable = true)\n",
            " |-- availability: string (nullable = true)\n",
            " |-- abv: float (nullable = true)\n",
            " |-- notes: string (nullable = true)\n",
            " |-- retired: string (nullable = true)\n",
            "\n"
          ]
        }
      ]
    },
    {
      "cell_type": "code",
      "source": [
        "# Drop unnecessary columns, change null values in state column to blank, and create clean df\n",
        "clean_beers_df = beers_df.drop('style', 'notes', 'retired')\n",
        "\n",
        "clean_beers_df = clean_beers_df.fillna(\"\", ['state'])\n",
        "\n",
        "clean_beers_df.show()"
      ],
      "metadata": {
        "colab": {
          "base_uri": "https://localhost:8080/"
        },
        "id": "I-QzVqUyTK6O",
        "outputId": "20ab6658-9d53-4f11-8d11-a066ce7a1c7b"
      },
      "execution_count": 33,
      "outputs": [
        {
          "output_type": "stream",
          "name": "stdout",
          "text": [
            "+-------+--------------------+----------+-----+-------+--------------------+----+\n",
            "|beer_id|                name|brewery_id|state|country|        availability| abv|\n",
            "+-------+--------------------+----------+-----+-------+--------------------+----+\n",
            "| 202522|      Olde Cogitator|      2199|   CA|     US|            Rotating| 7.3|\n",
            "|  82352|Konrads Stout Rus...|     18604|     |     NO|            Rotating|10.4|\n",
            "| 214879|      Scottish Right|     44306|   IN|     US|          Year-round| 4.0|\n",
            "| 320009|MegaMeow Imperial...|      4378|   WA|     US|              Winter| 8.7|\n",
            "| 246438|     Peaches-N-Cream|     44617|   PA|     US|            Rotating| 5.1|\n",
            "|   8036|World Burp Beer 2002|      3469|     |     JP| Limited (brewed ...| 5.5|\n",
            "| 108605|         Icon Sender|     22598|   CA|     US|          Year-round| 5.6|\n",
            "| 345382|          Divina IPA|     45567|     |     IT|            Rotating| 6.5|\n",
            "| 255286| Light Of The Ozarks|     11203|   AR|     US|            Rotating| 4.3|\n",
            "|  29556|      Warrior's Bock|      8203|   SK|     CA|            Rotating| 7.5|\n",
            "| 106840|Firehouse Coffee ...|     25251|     |     AU| Limited (brewed ...| 5.0|\n",
            "| 253234|Coffee Infused Bi...|     46862|   WA|     US|            Rotating| 3.5|\n",
            "|  15271|   Belgian Style Wit|      1345|   WA|     US|          Year-round| 4.5|\n",
            "|  69212|       Réserve No. 3|     18796|   QC|     CA| Limited (brewed ...|11.8|\n",
            "| 181442|Southern Saints I...|     33659|   NC|     US|              Spring| 6.9|\n",
            "| 351259|     Champagne Toast|     34416|   WA|     US|            Rotating| 4.0|\n",
            "| 303023|The Sky Is High (...|     46616|   NJ|     US| Limited (brewed ...| 5.2|\n",
            "| 265827|             Addison|     30870|   PA|     US|            Rotating| 5.5|\n",
            "| 219798|   Ocean Barley Wine|     16420|     |     SE|          Year-round| 9.8|\n",
            "| 110318|        Schwartz Hop|     22598|   CA|     US| Limited (brewed ...| 6.0|\n",
            "+-------+--------------------+----------+-----+-------+--------------------+----+\n",
            "only showing top 20 rows\n",
            "\n"
          ]
        }
      ]
    },
    {
      "cell_type": "code",
      "source": [
        "# Show the top 10 reported beers with the highest alcohol by volume in descending order \n",
        "highestABV = clean_beers_df.select('beer_id', 'name', 'abv').sort(func.col('abv').desc())\n",
        "highestABV.show(10)"
      ],
      "metadata": {
        "colab": {
          "base_uri": "https://localhost:8080/"
        },
        "id": "GYwLpf0qXiDJ",
        "outputId": "0a69a4e1-324a-41d5-ef89-f8a8cf977a0a"
      },
      "execution_count": 42,
      "outputs": [
        {
          "output_type": "stream",
          "name": "stdout",
          "text": [
            "+-------+--------------------+-----+\n",
            "|beer_id|                name|  abv|\n",
            "+-------+--------------------+-----+\n",
            "| 365307|               water|100.0|\n",
            "| 368012|Radiohead - OK Co...|100.0|\n",
            "| 368014|Earache: World's ...|100.0|\n",
            "| 311921|      Dark Reckoning| 80.0|\n",
            "| 104620|         Snake Venom| 67.5|\n",
            "| 366894|            series 3| 66.0|\n",
            "|  89801|          Armageddon| 65.0|\n",
            "|  83277|    Start The Future| 60.0|\n",
            "|  73368|Schorschbräu Scho...| 57.5|\n",
            "| 340204|    Belgian Pale Ale| 56.0|\n",
            "+-------+--------------------+-----+\n",
            "only showing top 10 rows\n",
            "\n"
          ]
        }
      ]
    },
    {
      "cell_type": "code",
      "source": [
        "# Show the top 10 reported beers with the lowest alcohol by volume in ascending order (removed null values first)\n",
        "beers_with_abv = clean_beers_df.dropna(subset='abv')\n",
        "lowestABV = beers_with_abv.select('beer_id', 'name', 'abv').sort(func.col('abv').asc())\n",
        "lowestABV.show(10)"
      ],
      "metadata": {
        "colab": {
          "base_uri": "https://localhost:8080/"
        },
        "id": "hFci1TxZZsn-",
        "outputId": "a49efc13-c878-4f68-c34a-ff42702c2754"
      },
      "execution_count": 46,
      "outputs": [
        {
          "output_type": "stream",
          "name": "stdout",
          "text": [
            "+-------+------------------+----+\n",
            "|beer_id|              name| abv|\n",
            "+-------+------------------+----+\n",
            "| 281191|      Innis & None|0.01|\n",
            "|  48553|            Chello|0.01|\n",
            "|  75417| Bavaria 0,0% Rosé|0.01|\n",
            "|  20210|             Liber|0.01|\n",
            "| 234948|           Día Sin|0.04|\n",
            "|   5898|         Vuurtoren|0.05|\n",
            "|  11198|        Genesee NA|0.05|\n",
            "|  78062|Birra Moretti Zero|0.05|\n",
            "|   5872|      Bavaria Malt|0.05|\n",
            "|  77292|       Scotty K NA|0.05|\n",
            "+-------+------------------+----+\n",
            "only showing top 10 rows\n",
            "\n"
          ]
        }
      ]
    },
    {
      "cell_type": "code",
      "source": [
        ""
      ],
      "metadata": {
        "id": "sYRa-Qy_az10"
      },
      "execution_count": null,
      "outputs": []
    },
    {
      "cell_type": "code",
      "source": [
        "# Ideas for cleaning the data:\n",
        "  # converting each column to their appropriate datatype\n",
        "  # address the null values in the state column\n",
        "\n",
        "# Ideas for exploring/visualizing the data: \n",
        "  # what beer has the highest abv? Lowest? \n",
        "  # most popular beers in: Spring, Winter, Year-round \n",
        "  # visualize count of beers by country"
      ],
      "metadata": {
        "id": "2TzUlQ417n-o"
      },
      "execution_count": null,
      "outputs": []
    },
    {
      "cell_type": "code",
      "source": [
        "# Check raw data (breweries.csv)\n",
        "!head -5 /content/drive/MyDrive/data/beers-breweries-reviews/breweries.csv"
      ],
      "metadata": {
        "colab": {
          "base_uri": "https://localhost:8080/"
        },
        "id": "az8M2WgW09Ui",
        "outputId": "5713a6f0-8a74-4252-bdf2-a90998738d7d"
      },
      "execution_count": null,
      "outputs": [
        {
          "output_type": "stream",
          "name": "stdout",
          "text": [
            "id,name,city,state,country,notes,types\n",
            "19730,Brouwerij Danny,Erpe-Mere,,BE,No notes at this time.,Brewery\n",
            "32541,Coachella Valley Brewing Co,Thousand Palms,CA,US,No notes at this time.,\"Brewery, Bar, Beer-to-go\"\n",
            "44736,Beef 'O' Brady's,Plant City,FL,US,No notes at this time.,\"Bar, Eatery\"\n",
            "23372,Broadway Wine Merchant,Oklahoma City,OK,US,No notes at this time.,Store\n"
          ]
        }
      ]
    },
    {
      "cell_type": "code",
      "source": [
        "# Read the breweries file and display top 20 rows\n",
        "breweries_df = spark.read.csv('/content/drive/MyDrive/data/beers-breweries-reviews/breweries.csv',\n",
        "                    sep = ',', header = True)\n",
        "\n",
        "breweries_df.show()"
      ],
      "metadata": {
        "colab": {
          "base_uri": "https://localhost:8080/"
        },
        "id": "-7xD8MFG1jmr",
        "outputId": "956ce6c2-6347-492a-9e5b-a1863ca6c43b"
      },
      "execution_count": null,
      "outputs": [
        {
          "output_type": "stream",
          "name": "stdout",
          "text": [
            "+-----+--------------------+--------------------+-----+-------+--------------------+--------------------+\n",
            "|   id|                name|                city|state|country|               notes|               types|\n",
            "+-----+--------------------+--------------------+-----+-------+--------------------+--------------------+\n",
            "|19730|     Brouwerij Danny|           Erpe-Mere| null|     BE|No notes at this ...|             Brewery|\n",
            "|32541|Coachella Valley ...|      Thousand Palms|   CA|     US|No notes at this ...|Brewery, Bar, Bee...|\n",
            "|44736|    Beef 'O' Brady's|          Plant City|   FL|     US|No notes at this ...|         Bar, Eatery|\n",
            "|23372|Broadway Wine Mer...|       Oklahoma City|   OK|     US|No notes at this ...|               Store|\n",
            "|35328|Brighton Beer Dis...|            Brighton|  GB2|     GB|Duplicate of http...|         Bar, Eatery|\n",
            "|31561|      Teddy's Tavern|             Seattle|   WA|     US|No notes at this ...|     Bar, Beer-to-go|\n",
            "|35975|Modus Operandi Br...|           Mona Vale| null|     AU|No notes at this ...|Brewery, Bar, Eat...|\n",
            "| 5618|Hops! Beer Restau...|       Riccione (RN)| null|     IT|No notes at this ...|Brewery, Bar, Eatery|\n",
            "|30916|     Kelly's Cellars|             Belfast|  GB5|     GB|No notes at this ...|                 Bar|\n",
            "|41278|       The Other End|              Destin|   FL|     US|No notes at this ...|         Bar, Eatery|\n",
            "|31711|    Ten Bells Tavern|              Dallas|   TX|     US|No notes at this ...|         Bar, Eatery|\n",
            "|12324|Bistro Europa / H...|          Alexandria|   VA|     US|No notes at this ...|                 Bar|\n",
            "|49850|  Crafty's Beer Shop|Letchworth Garden...|  GB2|     GB|No notes at this ...|     Bar, Beer-to-go|\n",
            "|16995|    Le Bien, Le Malt|            Rimouski|   QC|     CA|No notes at this ...|Brewery, Bar, Eatery|\n",
            "|45715|Angie's State Lin...|             Enfield|   CT|     US|No notes at this ...|               Store|\n",
            "|45617|            Serafino|        Thessaloniki| null|     GR|No notes at this ...|                 Bar|\n",
            "|28685|Brasserie De Puis...|         Saint-Privé| null|     FR|No notes at this ...|             Brewery|\n",
            "|47633|     Redneck Gourmet|              Newnan|   GA|     US|No notes at this ...|         Bar, Eatery|\n",
            "|31986|Power Marketing /...|            Westport|   MA|     US|No notes at this ...|             Brewery|\n",
            "|47464|Mahoney's Pub & G...|             Chicago|   IL|     US|No notes at this ...|         Bar, Eatery|\n",
            "+-----+--------------------+--------------------+-----+-------+--------------------+--------------------+\n",
            "only showing top 20 rows\n",
            "\n"
          ]
        }
      ]
    },
    {
      "cell_type": "code",
      "source": [
        "# Ideas for cleaning the data:\n",
        "  # converting each column to their appropriate datatype\n",
        "  # address the null values in the state column\n",
        "\n",
        "# Ideas for exploring/visualizing the data: \n",
        "  # count unique breweries \n",
        "  # count unique types of breweries\n",
        "  # visualize breweries by their type \n",
        "  # visualize breweries in the US by state "
      ],
      "metadata": {
        "id": "WN8nmZd39PrP"
      },
      "execution_count": null,
      "outputs": []
    }
  ]
}