{
  "nbformat": 4,
  "nbformat_minor": 0,
  "metadata": {
    "colab": {
      "name": "CIS_5367_Project.ipynb",
      "provenance": [],
      "collapsed_sections": []
    },
    "kernelspec": {
      "name": "python3",
      "display_name": "Python 3"
    },
    "language_info": {
      "name": "python"
    }
  },
  "cells": [
    {
      "cell_type": "code",
      "execution_count": 13,
      "metadata": {
        "id": "WrIH82Buajud"
      },
      "outputs": [],
      "source": [
        "# Spark init\n",
        "!wget -q https://dlcdn.apache.org/spark/spark-3.1.2/spark-3.1.2-bin-hadoop2.7.tgz \n",
        "!tar xf spark-3.1.2-bin-hadoop2.7.tgz\n",
        "import os\n",
        "os.environ[\"JAVA_HOME\"] = \"/usr/lib/jvm/default-java\"\n",
        "os.environ[\"SPARK_HOME\"] = \"/content/spark-3.1.2-bin-hadoop2.7\"\n",
        "!pip install -q findspark\n",
        "import findspark\n",
        "findspark.init()"
      ]
    },
    {
      "cell_type": "code",
      "source": [
        "from pyspark.sql.types import *\n",
        "from pyspark.sql import SparkSession"
      ],
      "metadata": {
        "id": "QhFXjoqqa2wD"
      },
      "execution_count": 14,
      "outputs": []
    },
    {
      "cell_type": "code",
      "source": [
        "# Mount Google Drive\n",
        "from google.colab import drive\n",
        "drive.mount('/content/drive')"
      ],
      "metadata": {
        "colab": {
          "base_uri": "https://localhost:8080/"
        },
        "id": "mLljQx8ka4NZ",
        "outputId": "24bcca35-2a42-4cda-92f0-555dd0a79fe2"
      },
      "execution_count": 15,
      "outputs": [
        {
          "output_type": "stream",
          "name": "stdout",
          "text": [
            "Drive already mounted at /content/drive; to attempt to forcibly remount, call drive.mount(\"/content/drive\", force_remount=True).\n"
          ]
        }
      ]
    },
    {
      "cell_type": "code",
      "source": [
        "# Create spark session \n",
        "spark = SparkSession.builder\\\n",
        "        .master(\"local\")\\\n",
        "        .appName(\"Colab\")\\\n",
        "        .config('spark.ui.port', '4050')\\\n",
        "        .getOrCreate()"
      ],
      "metadata": {
        "id": "GLFBl_TYa5YF"
      },
      "execution_count": 16,
      "outputs": []
    },
    {
      "cell_type": "code",
      "source": [
        "# Check raw data (reviews.csv)\n",
        "!head -5 /content/drive/MyDrive/data/beers-breweries-reviews/reviews.csv"
      ],
      "metadata": {
        "colab": {
          "base_uri": "https://localhost:8080/"
        },
        "id": "oY1bKxrdbCJs",
        "outputId": "9326a49d-d15c-46a8-8a7e-2f218ff1efd3"
      },
      "execution_count": 17,
      "outputs": [
        {
          "output_type": "stream",
          "name": "stdout",
          "text": [
            "beer_id,username,date,text,look,smell,taste,feel,overall,score\n",
            "271781,bluejacket74,2017-03-17,\"   750 ml bottle, 2016 vintage, bottle #304 of 360. Served in a DFH snifter, the beer pours dark brown/black with about an inch tan head that stuck around a little while. There's also a good amount of lacing. I like the aroma, the brew smells like dark fruit (raisin, plum), chocolate, roasted malt, and a bit of licorice. For the most part I think the taste is just like the aroma, but with some coffee flavor noticeable too. Mouthfeel/body is medium/full, it's creamy and coating with a moderate amount of carbonation. I think it's a good overall brew, worth picking up if you want a nice straight forward imperial stout. Here's hoping Four String brings this back in the future! $9.99 a bottle.  \",4,4,4,4.25,4,4.03\n",
            "125646,_dirty_,2017-12-21,  ,4.5,4.5,4.5,4.5,4.5,4.5\n",
            "125646,CJDUBYA,2017-12-21,  ,4.75,4.75,4.75,4.75,4.75,4.75\n",
            "125646,GratefulBeerGuy,2017-12-20,\"   0% 16 oz can. Funny story: As I finally walked in the doors after a 45 min wait in line and freezing temps the sweet sound of the Grateful Dead's Sugar Magnolia greeted me from the TreeHouse sound system. The bottom of the can reads: \"\"Going where the wind goes, bloomin' like a red rose\"\" A white haze to the yellow and golden liquid. Thick and healthy, totally unfiltered. Brawny white foam cap, thick, all-white clumps. Huge lacing left over. The aroma has a very zesty citrus hop effect, mellon and mango, grainy earthiness, tropical fruit blend with a bitter to sweet effect, then a peppery kick at the end. Very aromatic. The flavor is just bursting with complex hops, zesty earthy tones, sweet orange, peppery malt, clean fresh feel and overall vibe. A crispy bite wakes you up, full and lush mouthfeel follows from a totally unfiltered expereince. The feel and flavor finishes with a fun, earthy, zesty dry bite. Tropical juicy, zesty citrus, zippy golden wheat malt, melons, rustic earthiness sums up the taste pretty well. Levels of complexity are deep. It's an interesting ride for sure. Overall, this one stands somewhere near the top of the New England IPA's.  \",4.75,4.75,4.5,4.5,4.5,4.58\n"
          ]
        }
      ]
    },
    {
      "cell_type": "code",
      "source": [
        "# Read the reviews file and display top 20 rows\n",
        "custom_schema = StructType([\n",
        "        StructField(\"beer_id\", IntegerType(), True),\n",
        "        StructField(\"username\", StringType(), True),\n",
        "        StructField(\"date\", DateType(), True),\n",
        "        StructField(\"review_text\", StringType(), True),\n",
        "        StructField(\"look\", FloatType(), False),\n",
        "        StructField(\"smell\", FloatType(), False),\n",
        "        StructField(\"taste\", FloatType(), False),\n",
        "        StructField(\"feel\", FloatType(), False),\n",
        "        StructField(\"overall\", FloatType(), False),\n",
        "        StructField(\"score\", FloatType(), False)\n",
        "  ])\n",
        "\n",
        "reviews_df = spark.read.csv('/content/drive/MyDrive/data/beers-breweries-reviews/reviews.csv',\n",
        "                    sep = ',', schema = custom_schema, header = True)\n",
        "\n",
        "reviews_df.show()"
      ],
      "metadata": {
        "colab": {
          "base_uri": "https://localhost:8080/"
        },
        "id": "0888xEJbxmxw",
        "outputId": "864b7210-5215-4203-cfea-7b2fd5976ece"
      },
      "execution_count": 21,
      "outputs": [
        {
          "output_type": "stream",
          "name": "stdout",
          "text": [
            "+-------+---------------+----------+--------------------+----+-----+-----+----+-------+-----+\n",
            "|beer_id|       username|      date|         review_text|look|smell|taste|feel|overall|score|\n",
            "+-------+---------------+----------+--------------------+----+-----+-----+----+-------+-----+\n",
            "| 271781|   bluejacket74|2017-03-17|   750 ml bottle,...| 4.0|  4.0|  4.0|4.25|    4.0| 4.03|\n",
            "| 125646|        _dirty_|2017-12-21|                    | 4.5|  4.5|  4.5| 4.5|    4.5|  4.5|\n",
            "| 125646|        CJDUBYA|2017-12-21|                    |4.75| 4.75| 4.75|4.75|   4.75| 4.75|\n",
            "| 125646|GratefulBeerGuy|2017-12-20|\"   0% 16 oz can....|null| null| null|null|   null| null|\n",
            "| 125646|       LukeGude|2017-12-20|   Classic TH NEI...|4.25|  4.5| 4.25|4.25|   4.25| 4.31|\n",
            "| 125646|        jneff33|2017-12-20|                    | 4.5| 4.75|  5.0| 5.0|    5.0| 4.91|\n",
            "| 125646|      yummybeer|2017-12-19|                    |4.75|  4.5| 4.75|4.75|   4.75| 4.69|\n",
            "| 125646|           MFMB|2017-12-16|   Pours a creamy...|4.75|  4.5|  4.5| 4.5|    4.5| 4.52|\n",
            "| 125646|           wwoj|2017-12-16|                    | 5.0| 4.75|  4.5| 4.5|    4.5| 4.59|\n",
            "| 125646|        Rubenjr|2017-12-14|                    |4.75|  4.5|  4.5|4.75|    4.5| 4.54|\n",
            "| 125646|         jshusc|2017-12-13|                    | 4.5| 4.75|  4.5| 4.5|    4.5| 4.56|\n",
            "| 125646|       wfreitag|2017-12-11|                    |4.75| 4.75| 4.75|4.75|   4.75| 4.75|\n",
            "| 125646|      RollTide7|2017-12-10|                    | 4.5|  4.5| 4.75| 4.5|   4.75| 4.65|\n",
            "| 125646|    jngrizzaffi|2017-12-10|   Pours a cloudy...| 4.5|  4.5|  4.5|4.75|    4.5| 4.53|\n",
            "| 125646|    MBruckerATC|2017-12-09|                    | 5.0|  5.0|  5.0| 5.0|    5.0|  5.0|\n",
            "| 125646|       PDOR1960|2017-12-08|   Another great ...| 4.5|  4.5|  4.5| 4.5|    4.5|  4.5|\n",
            "| 125646|        hankf44|2017-12-07|                    |4.75| 4.75| 4.75| 5.0|   4.75| 4.78|\n",
            "| 125646|   JNickerson12|2017-12-07|                    | 5.0|  5.0|  5.0| 5.0|    5.0|  5.0|\n",
            "| 125646|    Chackman151|2017-12-05|                    | 5.0|  5.0|  5.0| 5.0|    5.0|  5.0|\n",
            "| 125646|        Lucular|2017-12-04|   Pours with a c...|4.25| 4.25| 4.25|4.25|   4.25| 4.25|\n",
            "+-------+---------------+----------+--------------------+----+-----+-----+----+-------+-----+\n",
            "only showing top 20 rows\n",
            "\n"
          ]
        }
      ]
    },
    {
      "cell_type": "code",
      "source": [
        "reviews_df.printSchema()"
      ],
      "metadata": {
        "colab": {
          "base_uri": "https://localhost:8080/"
        },
        "id": "t7frnOB32r2S",
        "outputId": "3090738d-132e-4be8-db81-41cd4a687839"
      },
      "execution_count": 22,
      "outputs": [
        {
          "output_type": "stream",
          "name": "stdout",
          "text": [
            "root\n",
            " |-- beer_id: integer (nullable = true)\n",
            " |-- username: string (nullable = true)\n",
            " |-- date: date (nullable = true)\n",
            " |-- review_text: string (nullable = true)\n",
            " |-- look: float (nullable = true)\n",
            " |-- smell: float (nullable = true)\n",
            " |-- taste: float (nullable = true)\n",
            " |-- feel: float (nullable = true)\n",
            " |-- overall: float (nullable = true)\n",
            " |-- score: float (nullable = true)\n",
            "\n"
          ]
        }
      ]
    },
    {
      "cell_type": "code",
      "source": [
        "# Remove rows with missing values and create clean df\n",
        "clean_reviews_df = reviews_df.dropna()\n",
        "\n",
        "clean_reviews_df.show()"
      ],
      "metadata": {
        "colab": {
          "base_uri": "https://localhost:8080/"
        },
        "id": "UXpKeRyivQSy",
        "outputId": "fe75cd20-b55d-432b-9cb6-28ac7eeb06ba"
      },
      "execution_count": 27,
      "outputs": [
        {
          "output_type": "stream",
          "name": "stdout",
          "text": [
            "+-------+------------+----------+--------------------+----+-----+-----+----+-------+-----+\n",
            "|beer_id|    username|      date|         review_text|look|smell|taste|feel|overall|score|\n",
            "+-------+------------+----------+--------------------+----+-----+-----+----+-------+-----+\n",
            "| 271781|bluejacket74|2017-03-17|   750 ml bottle,...| 4.0|  4.0|  4.0|4.25|    4.0| 4.03|\n",
            "| 125646|     _dirty_|2017-12-21|                    | 4.5|  4.5|  4.5| 4.5|    4.5|  4.5|\n",
            "| 125646|     CJDUBYA|2017-12-21|                    |4.75| 4.75| 4.75|4.75|   4.75| 4.75|\n",
            "| 125646|    LukeGude|2017-12-20|   Classic TH NEI...|4.25|  4.5| 4.25|4.25|   4.25| 4.31|\n",
            "| 125646|     jneff33|2017-12-20|                    | 4.5| 4.75|  5.0| 5.0|    5.0| 4.91|\n",
            "| 125646|   yummybeer|2017-12-19|                    |4.75|  4.5| 4.75|4.75|   4.75| 4.69|\n",
            "| 125646|        MFMB|2017-12-16|   Pours a creamy...|4.75|  4.5|  4.5| 4.5|    4.5| 4.52|\n",
            "| 125646|        wwoj|2017-12-16|                    | 5.0| 4.75|  4.5| 4.5|    4.5| 4.59|\n",
            "| 125646|     Rubenjr|2017-12-14|                    |4.75|  4.5|  4.5|4.75|    4.5| 4.54|\n",
            "| 125646|      jshusc|2017-12-13|                    | 4.5| 4.75|  4.5| 4.5|    4.5| 4.56|\n",
            "| 125646|    wfreitag|2017-12-11|                    |4.75| 4.75| 4.75|4.75|   4.75| 4.75|\n",
            "| 125646|   RollTide7|2017-12-10|                    | 4.5|  4.5| 4.75| 4.5|   4.75| 4.65|\n",
            "| 125646| jngrizzaffi|2017-12-10|   Pours a cloudy...| 4.5|  4.5|  4.5|4.75|    4.5| 4.53|\n",
            "| 125646| MBruckerATC|2017-12-09|                    | 5.0|  5.0|  5.0| 5.0|    5.0|  5.0|\n",
            "| 125646|    PDOR1960|2017-12-08|   Another great ...| 4.5|  4.5|  4.5| 4.5|    4.5|  4.5|\n",
            "| 125646|     hankf44|2017-12-07|                    |4.75| 4.75| 4.75| 5.0|   4.75| 4.78|\n",
            "| 125646|JNickerson12|2017-12-07|                    | 5.0|  5.0|  5.0| 5.0|    5.0|  5.0|\n",
            "| 125646| Chackman151|2017-12-05|                    | 5.0|  5.0|  5.0| 5.0|    5.0|  5.0|\n",
            "| 125646|     Lucular|2017-12-04|   Pours with a c...|4.25| 4.25| 4.25|4.25|   4.25| 4.25|\n",
            "| 125646| ColForbinBC|2017-12-04|                    |4.25| 4.25|  4.5| 4.5|   4.25| 4.38|\n",
            "+-------+------------+----------+--------------------+----+-----+-----+----+-------+-----+\n",
            "only showing top 20 rows\n",
            "\n"
          ]
        }
      ]
    },
    {
      "cell_type": "code",
      "source": [
        "# Number of unique users\n",
        "uniqueUsers = clean_reviews_df.select('username').distinct().count()\n",
        "print(\"There are %d unique users that left a review.\" % uniqueUsers)\n",
        "\n",
        "# Number of unique beers \n",
        "uniqueBeers = clean_reviews_df.select('beer_id').distinct().count()\n",
        "print(\"There are %d beers that were reviewed.\" % uniqueBeers)"
      ],
      "metadata": {
        "colab": {
          "base_uri": "https://localhost:8080/"
        },
        "id": "ChKI-zcE41KW",
        "outputId": "2b338e5b-68ed-46fd-a12d-3c8cf7a0893d"
      },
      "execution_count": 28,
      "outputs": [
        {
          "output_type": "stream",
          "name": "stdout",
          "text": [
            "There are 108406 unique users that left a review.\n",
            "There are 155199 beers that were reviewed.\n"
          ]
        }
      ]
    },
    {
      "cell_type": "code",
      "source": [
        "# Find average ratings for all categories \n",
        "# This takes a long time to run (about 10 minutes)\n",
        "import pyspark.sql.functions as func\n",
        "\n",
        "averageLookRating = clean_reviews_df.agg(func.avg('look')).collect()[0][0]\n",
        "print(\"The average rating for the Look category is: %.2f\" % averageLookRating)\n",
        "\n",
        "averageSmellRating = clean_reviews_df.agg(func.avg('smell')).collect()[0][0]\n",
        "print(\"The average rating for the Smell category is: %.2f\" % averageSmellRating) \n",
        "\n",
        "averageTasteRating = clean_reviews_df.agg(func.avg('taste')).collect()[0][0]\n",
        "print(\"The average rating for the Taste category is: %.2f\" % averageTasteRating) \n",
        "\n",
        "averageFeelRating = clean_reviews_df.agg(func.avg('feel')).collect()[0][0]\n",
        "print(\"The average rating for the Feel category is: %.2f\" % averageFeelRating) \n",
        "\n",
        "averageOverallRating = clean_reviews_df.agg(func.avg('overall')).collect()[0][0]\n",
        "print(\"The average rating for the Overall category is: %.2f\" % averageOverallRating)\n",
        "\n",
        "averageScoreRating = clean_reviews_df.agg(func.avg('score')).collect()[0][0]\n",
        "print(\"The average rating for the Score category is: %.2f\" % averageScoreRating)"
      ],
      "metadata": {
        "colab": {
          "base_uri": "https://localhost:8080/"
        },
        "id": "pXhljaMR0BOc",
        "outputId": "a8c13209-72f6-4f0e-8d6f-60371f7dd1e7"
      },
      "execution_count": 34,
      "outputs": [
        {
          "output_type": "stream",
          "name": "stdout",
          "text": [
            "The average rating for the Look category is: 3.96\n",
            "The average rating for the Smell category is: 3.89\n",
            "The average rating for the Taste category is: 3.93\n",
            "The average rating for the Feel category is: 3.89\n",
            "The average rating for the Overall category is: 3.92\n",
            "The average rating for the Score category is: 3.92\n"
          ]
        }
      ]
    },
    {
      "cell_type": "code",
      "source": [
        "# Check raw data (beers.csv)\n",
        "!head -5 /content/drive/MyDrive/data/beers-breweries-reviews/beers.csv"
      ],
      "metadata": {
        "colab": {
          "base_uri": "https://localhost:8080/"
        },
        "id": "uQ9bntE10OCi",
        "outputId": "0dc0aaa1-713e-47cf-8078-c33a1eeb66b9"
      },
      "execution_count": null,
      "outputs": [
        {
          "output_type": "stream",
          "name": "stdout",
          "text": [
            "id,name,brewery_id,state,country,style,availability,abv,notes,retired\n",
            "202522,Olde Cogitator,2199,CA,US,English Oatmeal Stout, Rotating,7.3,No notes at this time.,f\n",
            "82352,Konrads Stout Russian Imperial Stout,18604,,NO,Russian Imperial Stout, Rotating,10.4,No notes at this time.,f\n",
            "214879,Scottish Right,44306,IN,US,Scottish Ale, Year-round,4,No notes at this time.,t\n",
            "320009,MegaMeow Imperial Stout,4378,WA,US,American Imperial Stout, Winter,8.7,Every time this year,f\n"
          ]
        }
      ]
    },
    {
      "cell_type": "code",
      "source": [
        "# Read the beers file and display top 20 rows\n",
        "beers_df = spark.read.csv('/content/drive/MyDrive/data/beers-breweries-reviews/beers.csv',\n",
        "                    sep = ',', header = True)\n",
        "\n",
        "beers_df.show()"
      ],
      "metadata": {
        "colab": {
          "base_uri": "https://localhost:8080/"
        },
        "id": "MgpPCFJo0Vpj",
        "outputId": "a6c8a63a-e04b-4720-a34f-2414879a7c00"
      },
      "execution_count": null,
      "outputs": [
        {
          "output_type": "stream",
          "name": "stdout",
          "text": [
            "+------+--------------------+----------+-----+-------+--------------------+--------------------+----+--------------------+-------+\n",
            "|    id|                name|brewery_id|state|country|               style|        availability| abv|               notes|retired|\n",
            "+------+--------------------+----------+-----+-------+--------------------+--------------------+----+--------------------+-------+\n",
            "|202522|      Olde Cogitator|      2199|   CA|     US|English Oatmeal S...|            Rotating| 7.3|No notes at this ...|      f|\n",
            "| 82352|Konrads Stout Rus...|     18604| null|     NO|Russian Imperial ...|            Rotating|10.4|No notes at this ...|      f|\n",
            "|214879|      Scottish Right|     44306|   IN|     US|        Scottish Ale|          Year-round|   4|No notes at this ...|      t|\n",
            "|320009|MegaMeow Imperial...|      4378|   WA|     US|American Imperial...|              Winter| 8.7|Every time this year|      f|\n",
            "|246438|     Peaches-N-Cream|     44617|   PA|     US|  American Cream Ale|            Rotating| 5.1|No notes at this ...|      f|\n",
            "|  8036|World Burp Beer 2002|      3469| null|     JP| Japanese Rice Lager| Limited (brewed ...| 5.5|No notes at this ...|      t|\n",
            "|108605|         Icon Sender|     22598|   CA|     US|      American Lager|          Year-round| 5.6|No notes at this ...|      f|\n",
            "|345382|          Divina IPA|     45567| null|     IT|        American IPA|            Rotating| 6.5|No notes at this ...|      f|\n",
            "|255286| Light Of The Ozarks|     11203|   AR|     US|      American Lager|            Rotating| 4.3|No notes at this ...|      f|\n",
            "| 29556|      Warrior's Bock|      8203|   SK|     CA|         German Bock|            Rotating| 7.5|No notes at this ...|      t|\n",
            "|106840|Firehouse Coffee ...|     25251| null|     AU|       English Stout| Limited (brewed ...|   5|No notes at this ...|      t|\n",
            "|253234|Coffee Infused Bi...|     46862|   WA|     US|      English Bitter|            Rotating| 3.5|No notes at this ...|      f|\n",
            "| 15271|   Belgian Style Wit|      1345|   WA|     US|     Belgian Witbier|          Year-round| 4.5|No notes at this ...|      t|\n",
            "| 69212|       Réserve No. 3|     18796|   QC|     CA| American Strong Ale| Limited (brewed ...|11.8|No notes at this ...|      t|\n",
            "|181442|Southern Saints I...|     33659|   NC|     US|American Pale Whe...|              Spring| 6.9|No notes at this ...|      f|\n",
            "|351259|     Champagne Toast|     34416|   WA|     US|     Berliner Weisse|            Rotating|   4|No notes at this ...|      f|\n",
            "|303023|The Sky Is High (...|     46616|   NJ|     US|American Pale Ale...| Limited (brewed ...| 5.2|This hazy pale al...|      t|\n",
            "|265827|             Addison|     30870|   PA|     US|American Pale Ale...|            Rotating| 5.5|No notes at this ...|      f|\n",
            "|219798|   Ocean Barley Wine|     16420| null|     SE|  British Barleywine|          Year-round| 9.8|No notes at this ...|      f|\n",
            "|110318|        Schwartz Hop|     22598|   CA|     US|  American Black Ale| Limited (brewed ...|   6|No notes at this ...|      t|\n",
            "+------+--------------------+----------+-----+-------+--------------------+--------------------+----+--------------------+-------+\n",
            "only showing top 20 rows\n",
            "\n"
          ]
        }
      ]
    },
    {
      "cell_type": "code",
      "source": [
        "# Ideas for cleaning the data:\n",
        "  # converting each column to their appropriate datatype\n",
        "  # address the null values in the state column\n",
        "\n",
        "# Ideas for exploring/visualizing the data: \n",
        "  # what beer has the highest abv? Lowest? \n",
        "  # most popular beers in: Spring, Winter, Year-round \n",
        "  # visualize count of beers by country"
      ],
      "metadata": {
        "id": "2TzUlQ417n-o"
      },
      "execution_count": null,
      "outputs": []
    },
    {
      "cell_type": "code",
      "source": [
        "# Check raw data (breweries.csv)\n",
        "!head -5 /content/drive/MyDrive/data/beers-breweries-reviews/breweries.csv"
      ],
      "metadata": {
        "colab": {
          "base_uri": "https://localhost:8080/"
        },
        "id": "az8M2WgW09Ui",
        "outputId": "5713a6f0-8a74-4252-bdf2-a90998738d7d"
      },
      "execution_count": null,
      "outputs": [
        {
          "output_type": "stream",
          "name": "stdout",
          "text": [
            "id,name,city,state,country,notes,types\n",
            "19730,Brouwerij Danny,Erpe-Mere,,BE,No notes at this time.,Brewery\n",
            "32541,Coachella Valley Brewing Co,Thousand Palms,CA,US,No notes at this time.,\"Brewery, Bar, Beer-to-go\"\n",
            "44736,Beef 'O' Brady's,Plant City,FL,US,No notes at this time.,\"Bar, Eatery\"\n",
            "23372,Broadway Wine Merchant,Oklahoma City,OK,US,No notes at this time.,Store\n"
          ]
        }
      ]
    },
    {
      "cell_type": "code",
      "source": [
        "# Read the breweries file and display top 20 rows\n",
        "breweries_df = spark.read.csv('/content/drive/MyDrive/data/beers-breweries-reviews/breweries.csv',\n",
        "                    sep = ',', header = True)\n",
        "\n",
        "breweries_df.show()"
      ],
      "metadata": {
        "colab": {
          "base_uri": "https://localhost:8080/"
        },
        "id": "-7xD8MFG1jmr",
        "outputId": "956ce6c2-6347-492a-9e5b-a1863ca6c43b"
      },
      "execution_count": null,
      "outputs": [
        {
          "output_type": "stream",
          "name": "stdout",
          "text": [
            "+-----+--------------------+--------------------+-----+-------+--------------------+--------------------+\n",
            "|   id|                name|                city|state|country|               notes|               types|\n",
            "+-----+--------------------+--------------------+-----+-------+--------------------+--------------------+\n",
            "|19730|     Brouwerij Danny|           Erpe-Mere| null|     BE|No notes at this ...|             Brewery|\n",
            "|32541|Coachella Valley ...|      Thousand Palms|   CA|     US|No notes at this ...|Brewery, Bar, Bee...|\n",
            "|44736|    Beef 'O' Brady's|          Plant City|   FL|     US|No notes at this ...|         Bar, Eatery|\n",
            "|23372|Broadway Wine Mer...|       Oklahoma City|   OK|     US|No notes at this ...|               Store|\n",
            "|35328|Brighton Beer Dis...|            Brighton|  GB2|     GB|Duplicate of http...|         Bar, Eatery|\n",
            "|31561|      Teddy's Tavern|             Seattle|   WA|     US|No notes at this ...|     Bar, Beer-to-go|\n",
            "|35975|Modus Operandi Br...|           Mona Vale| null|     AU|No notes at this ...|Brewery, Bar, Eat...|\n",
            "| 5618|Hops! Beer Restau...|       Riccione (RN)| null|     IT|No notes at this ...|Brewery, Bar, Eatery|\n",
            "|30916|     Kelly's Cellars|             Belfast|  GB5|     GB|No notes at this ...|                 Bar|\n",
            "|41278|       The Other End|              Destin|   FL|     US|No notes at this ...|         Bar, Eatery|\n",
            "|31711|    Ten Bells Tavern|              Dallas|   TX|     US|No notes at this ...|         Bar, Eatery|\n",
            "|12324|Bistro Europa / H...|          Alexandria|   VA|     US|No notes at this ...|                 Bar|\n",
            "|49850|  Crafty's Beer Shop|Letchworth Garden...|  GB2|     GB|No notes at this ...|     Bar, Beer-to-go|\n",
            "|16995|    Le Bien, Le Malt|            Rimouski|   QC|     CA|No notes at this ...|Brewery, Bar, Eatery|\n",
            "|45715|Angie's State Lin...|             Enfield|   CT|     US|No notes at this ...|               Store|\n",
            "|45617|            Serafino|        Thessaloniki| null|     GR|No notes at this ...|                 Bar|\n",
            "|28685|Brasserie De Puis...|         Saint-Privé| null|     FR|No notes at this ...|             Brewery|\n",
            "|47633|     Redneck Gourmet|              Newnan|   GA|     US|No notes at this ...|         Bar, Eatery|\n",
            "|31986|Power Marketing /...|            Westport|   MA|     US|No notes at this ...|             Brewery|\n",
            "|47464|Mahoney's Pub & G...|             Chicago|   IL|     US|No notes at this ...|         Bar, Eatery|\n",
            "+-----+--------------------+--------------------+-----+-------+--------------------+--------------------+\n",
            "only showing top 20 rows\n",
            "\n"
          ]
        }
      ]
    },
    {
      "cell_type": "code",
      "source": [
        "# Ideas for cleaning the data:\n",
        "  # converting each column to their appropriate datatype\n",
        "  # address the null values in the state column\n",
        "\n",
        "# Ideas for exploring/visualizing the data: \n",
        "  # count unique breweries \n",
        "  # count unique types of breweries\n",
        "  # visualize breweries by their type \n",
        "  # visualize breweries in the US by state "
      ],
      "metadata": {
        "id": "WN8nmZd39PrP"
      },
      "execution_count": null,
      "outputs": []
    }
  ]
}